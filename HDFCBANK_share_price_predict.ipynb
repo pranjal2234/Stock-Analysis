{
  "cells": [
    {
      "cell_type": "markdown",
      "metadata": {
        "id": "view-in-github",
        "colab_type": "text"
      },
      "source": [
        "<a href=\"https://colab.research.google.com/github/pranjal2234/Stock-Analysis/blob/main/HDFCBANK_share_price_predict.ipynb\" target=\"_parent\"><img src=\"https://colab.research.google.com/assets/colab-badge.svg\" alt=\"Open In Colab\"/></a>"
      ]
    },
    {
      "cell_type": "code",
      "execution_count": null,
      "metadata": {
        "id": "oKaIOsMcpE0l"
      },
      "outputs": [],
      "source": [
        "#Installing and importing yfinance\n",
        "!pip install yfinance\n",
        "import yfinance as yf\n",
        "import pandas as pd"
      ]
    },
    {
      "cell_type": "code",
      "execution_count": null,
      "metadata": {
        "id": "FYvapeWJpKjO"
      },
      "outputs": [],
      "source": [
        "#Loading hdfcbank stock market share price\n",
        "hdfcbank = yf.Ticker(\"HDFCBANK.NS\")\n",
        "hdfcbank = hdfcbank.history(period= \"max\")"
      ]
    },
    {
      "cell_type": "code",
      "execution_count": null,
      "metadata": {
        "colab": {
          "base_uri": "https://localhost:8080/",
          "height": 238
        },
        "id": "vntApf5UpYP4",
        "outputId": "4113c26c-c4bd-4ca5-d8c3-a0030bf857df"
      },
      "outputs": [
        {
          "output_type": "execute_result",
          "data": {
            "text/plain": [
              "                   Open         High          Low        Close   Volume  \\\n",
              "Date                                                                      \n",
              "2022-08-22  1484.800049  1488.349976  1467.699951  1470.349976  4117033   \n",
              "2022-08-23  1453.300049  1475.949951  1450.400024  1465.800049  7483442   \n",
              "2022-08-24  1461.900024  1475.500000  1459.199951  1472.849976  6727760   \n",
              "2022-08-25  1479.900024  1486.800049  1457.000000  1464.849976  5911520   \n",
              "2022-08-26  1472.050049  1481.800049  1461.199951  1465.099976  3853088   \n",
              "\n",
              "            Dividends  Stock Splits  \n",
              "Date                                 \n",
              "2022-08-22        0.0           0.0  \n",
              "2022-08-23        0.0           0.0  \n",
              "2022-08-24        0.0           0.0  \n",
              "2022-08-25        0.0           0.0  \n",
              "2022-08-26        0.0           0.0  "
            ],
            "text/html": [
              "\n",
              "  <div id=\"df-84493b28-dbee-4476-a0ca-930382c35970\">\n",
              "    <div class=\"colab-df-container\">\n",
              "      <div>\n",
              "<style scoped>\n",
              "    .dataframe tbody tr th:only-of-type {\n",
              "        vertical-align: middle;\n",
              "    }\n",
              "\n",
              "    .dataframe tbody tr th {\n",
              "        vertical-align: top;\n",
              "    }\n",
              "\n",
              "    .dataframe thead th {\n",
              "        text-align: right;\n",
              "    }\n",
              "</style>\n",
              "<table border=\"1\" class=\"dataframe\">\n",
              "  <thead>\n",
              "    <tr style=\"text-align: right;\">\n",
              "      <th></th>\n",
              "      <th>Open</th>\n",
              "      <th>High</th>\n",
              "      <th>Low</th>\n",
              "      <th>Close</th>\n",
              "      <th>Volume</th>\n",
              "      <th>Dividends</th>\n",
              "      <th>Stock Splits</th>\n",
              "    </tr>\n",
              "    <tr>\n",
              "      <th>Date</th>\n",
              "      <th></th>\n",
              "      <th></th>\n",
              "      <th></th>\n",
              "      <th></th>\n",
              "      <th></th>\n",
              "      <th></th>\n",
              "      <th></th>\n",
              "    </tr>\n",
              "  </thead>\n",
              "  <tbody>\n",
              "    <tr>\n",
              "      <th>2022-08-22</th>\n",
              "      <td>1484.800049</td>\n",
              "      <td>1488.349976</td>\n",
              "      <td>1467.699951</td>\n",
              "      <td>1470.349976</td>\n",
              "      <td>4117033</td>\n",
              "      <td>0.0</td>\n",
              "      <td>0.0</td>\n",
              "    </tr>\n",
              "    <tr>\n",
              "      <th>2022-08-23</th>\n",
              "      <td>1453.300049</td>\n",
              "      <td>1475.949951</td>\n",
              "      <td>1450.400024</td>\n",
              "      <td>1465.800049</td>\n",
              "      <td>7483442</td>\n",
              "      <td>0.0</td>\n",
              "      <td>0.0</td>\n",
              "    </tr>\n",
              "    <tr>\n",
              "      <th>2022-08-24</th>\n",
              "      <td>1461.900024</td>\n",
              "      <td>1475.500000</td>\n",
              "      <td>1459.199951</td>\n",
              "      <td>1472.849976</td>\n",
              "      <td>6727760</td>\n",
              "      <td>0.0</td>\n",
              "      <td>0.0</td>\n",
              "    </tr>\n",
              "    <tr>\n",
              "      <th>2022-08-25</th>\n",
              "      <td>1479.900024</td>\n",
              "      <td>1486.800049</td>\n",
              "      <td>1457.000000</td>\n",
              "      <td>1464.849976</td>\n",
              "      <td>5911520</td>\n",
              "      <td>0.0</td>\n",
              "      <td>0.0</td>\n",
              "    </tr>\n",
              "    <tr>\n",
              "      <th>2022-08-26</th>\n",
              "      <td>1472.050049</td>\n",
              "      <td>1481.800049</td>\n",
              "      <td>1461.199951</td>\n",
              "      <td>1465.099976</td>\n",
              "      <td>3853088</td>\n",
              "      <td>0.0</td>\n",
              "      <td>0.0</td>\n",
              "    </tr>\n",
              "  </tbody>\n",
              "</table>\n",
              "</div>\n",
              "      <button class=\"colab-df-convert\" onclick=\"convertToInteractive('df-84493b28-dbee-4476-a0ca-930382c35970')\"\n",
              "              title=\"Convert this dataframe to an interactive table.\"\n",
              "              style=\"display:none;\">\n",
              "        \n",
              "  <svg xmlns=\"http://www.w3.org/2000/svg\" height=\"24px\"viewBox=\"0 0 24 24\"\n",
              "       width=\"24px\">\n",
              "    <path d=\"M0 0h24v24H0V0z\" fill=\"none\"/>\n",
              "    <path d=\"M18.56 5.44l.94 2.06.94-2.06 2.06-.94-2.06-.94-.94-2.06-.94 2.06-2.06.94zm-11 1L8.5 8.5l.94-2.06 2.06-.94-2.06-.94L8.5 2.5l-.94 2.06-2.06.94zm10 10l.94 2.06.94-2.06 2.06-.94-2.06-.94-.94-2.06-.94 2.06-2.06.94z\"/><path d=\"M17.41 7.96l-1.37-1.37c-.4-.4-.92-.59-1.43-.59-.52 0-1.04.2-1.43.59L10.3 9.45l-7.72 7.72c-.78.78-.78 2.05 0 2.83L4 21.41c.39.39.9.59 1.41.59.51 0 1.02-.2 1.41-.59l7.78-7.78 2.81-2.81c.8-.78.8-2.07 0-2.86zM5.41 20L4 18.59l7.72-7.72 1.47 1.35L5.41 20z\"/>\n",
              "  </svg>\n",
              "      </button>\n",
              "      \n",
              "  <style>\n",
              "    .colab-df-container {\n",
              "      display:flex;\n",
              "      flex-wrap:wrap;\n",
              "      gap: 12px;\n",
              "    }\n",
              "\n",
              "    .colab-df-convert {\n",
              "      background-color: #E8F0FE;\n",
              "      border: none;\n",
              "      border-radius: 50%;\n",
              "      cursor: pointer;\n",
              "      display: none;\n",
              "      fill: #1967D2;\n",
              "      height: 32px;\n",
              "      padding: 0 0 0 0;\n",
              "      width: 32px;\n",
              "    }\n",
              "\n",
              "    .colab-df-convert:hover {\n",
              "      background-color: #E2EBFA;\n",
              "      box-shadow: 0px 1px 2px rgba(60, 64, 67, 0.3), 0px 1px 3px 1px rgba(60, 64, 67, 0.15);\n",
              "      fill: #174EA6;\n",
              "    }\n",
              "\n",
              "    [theme=dark] .colab-df-convert {\n",
              "      background-color: #3B4455;\n",
              "      fill: #D2E3FC;\n",
              "    }\n",
              "\n",
              "    [theme=dark] .colab-df-convert:hover {\n",
              "      background-color: #434B5C;\n",
              "      box-shadow: 0px 1px 3px 1px rgba(0, 0, 0, 0.15);\n",
              "      filter: drop-shadow(0px 1px 2px rgba(0, 0, 0, 0.3));\n",
              "      fill: #FFFFFF;\n",
              "    }\n",
              "  </style>\n",
              "\n",
              "      <script>\n",
              "        const buttonEl =\n",
              "          document.querySelector('#df-84493b28-dbee-4476-a0ca-930382c35970 button.colab-df-convert');\n",
              "        buttonEl.style.display =\n",
              "          google.colab.kernel.accessAllowed ? 'block' : 'none';\n",
              "\n",
              "        async function convertToInteractive(key) {\n",
              "          const element = document.querySelector('#df-84493b28-dbee-4476-a0ca-930382c35970');\n",
              "          const dataTable =\n",
              "            await google.colab.kernel.invokeFunction('convertToInteractive',\n",
              "                                                     [key], {});\n",
              "          if (!dataTable) return;\n",
              "\n",
              "          const docLinkHtml = 'Like what you see? Visit the ' +\n",
              "            '<a target=\"_blank\" href=https://colab.research.google.com/notebooks/data_table.ipynb>data table notebook</a>'\n",
              "            + ' to learn more about interactive tables.';\n",
              "          element.innerHTML = '';\n",
              "          dataTable['output_type'] = 'display_data';\n",
              "          await google.colab.output.renderOutput(dataTable, element);\n",
              "          const docLink = document.createElement('div');\n",
              "          docLink.innerHTML = docLinkHtml;\n",
              "          element.appendChild(docLink);\n",
              "        }\n",
              "      </script>\n",
              "    </div>\n",
              "  </div>\n",
              "  "
            ]
          },
          "metadata": {},
          "execution_count": 420
        }
      ],
      "source": [
        "hdfcbank.tail()"
      ]
    },
    {
      "cell_type": "code",
      "execution_count": null,
      "metadata": {
        "colab": {
          "base_uri": "https://localhost:8080/",
          "height": 238
        },
        "id": "ud3v4CCC8j3v",
        "outputId": "7a508506-0fe9-4bfe-cc07-6588757c7d93"
      },
      "outputs": [
        {
          "output_type": "execute_result",
          "data": {
            "text/plain": [
              "                Open      High       Low     Close  Volume\n",
              "Date                                                      \n",
              "1996-01-01  2.430058  2.430058  2.345848  2.389958  350000\n",
              "1996-01-02  2.389958  2.426048  2.365898  2.385948  412000\n",
              "1996-01-03  2.385947  2.401987  2.365897  2.393967  284000\n",
              "1996-01-04  2.393968  2.389958  2.357878  2.377928  282000\n",
              "1996-01-05  2.377927  2.389957  2.365897  2.373917  189000"
            ],
            "text/html": [
              "\n",
              "  <div id=\"df-5cbc2bf2-4da3-4b8e-81b5-aa0ac50bac5b\">\n",
              "    <div class=\"colab-df-container\">\n",
              "      <div>\n",
              "<style scoped>\n",
              "    .dataframe tbody tr th:only-of-type {\n",
              "        vertical-align: middle;\n",
              "    }\n",
              "\n",
              "    .dataframe tbody tr th {\n",
              "        vertical-align: top;\n",
              "    }\n",
              "\n",
              "    .dataframe thead th {\n",
              "        text-align: right;\n",
              "    }\n",
              "</style>\n",
              "<table border=\"1\" class=\"dataframe\">\n",
              "  <thead>\n",
              "    <tr style=\"text-align: right;\">\n",
              "      <th></th>\n",
              "      <th>Open</th>\n",
              "      <th>High</th>\n",
              "      <th>Low</th>\n",
              "      <th>Close</th>\n",
              "      <th>Volume</th>\n",
              "    </tr>\n",
              "    <tr>\n",
              "      <th>Date</th>\n",
              "      <th></th>\n",
              "      <th></th>\n",
              "      <th></th>\n",
              "      <th></th>\n",
              "      <th></th>\n",
              "    </tr>\n",
              "  </thead>\n",
              "  <tbody>\n",
              "    <tr>\n",
              "      <th>1996-01-01</th>\n",
              "      <td>2.430058</td>\n",
              "      <td>2.430058</td>\n",
              "      <td>2.345848</td>\n",
              "      <td>2.389958</td>\n",
              "      <td>350000</td>\n",
              "    </tr>\n",
              "    <tr>\n",
              "      <th>1996-01-02</th>\n",
              "      <td>2.389958</td>\n",
              "      <td>2.426048</td>\n",
              "      <td>2.365898</td>\n",
              "      <td>2.385948</td>\n",
              "      <td>412000</td>\n",
              "    </tr>\n",
              "    <tr>\n",
              "      <th>1996-01-03</th>\n",
              "      <td>2.385947</td>\n",
              "      <td>2.401987</td>\n",
              "      <td>2.365897</td>\n",
              "      <td>2.393967</td>\n",
              "      <td>284000</td>\n",
              "    </tr>\n",
              "    <tr>\n",
              "      <th>1996-01-04</th>\n",
              "      <td>2.393968</td>\n",
              "      <td>2.389958</td>\n",
              "      <td>2.357878</td>\n",
              "      <td>2.377928</td>\n",
              "      <td>282000</td>\n",
              "    </tr>\n",
              "    <tr>\n",
              "      <th>1996-01-05</th>\n",
              "      <td>2.377927</td>\n",
              "      <td>2.389957</td>\n",
              "      <td>2.365897</td>\n",
              "      <td>2.373917</td>\n",
              "      <td>189000</td>\n",
              "    </tr>\n",
              "  </tbody>\n",
              "</table>\n",
              "</div>\n",
              "      <button class=\"colab-df-convert\" onclick=\"convertToInteractive('df-5cbc2bf2-4da3-4b8e-81b5-aa0ac50bac5b')\"\n",
              "              title=\"Convert this dataframe to an interactive table.\"\n",
              "              style=\"display:none;\">\n",
              "        \n",
              "  <svg xmlns=\"http://www.w3.org/2000/svg\" height=\"24px\"viewBox=\"0 0 24 24\"\n",
              "       width=\"24px\">\n",
              "    <path d=\"M0 0h24v24H0V0z\" fill=\"none\"/>\n",
              "    <path d=\"M18.56 5.44l.94 2.06.94-2.06 2.06-.94-2.06-.94-.94-2.06-.94 2.06-2.06.94zm-11 1L8.5 8.5l.94-2.06 2.06-.94-2.06-.94L8.5 2.5l-.94 2.06-2.06.94zm10 10l.94 2.06.94-2.06 2.06-.94-2.06-.94-.94-2.06-.94 2.06-2.06.94z\"/><path d=\"M17.41 7.96l-1.37-1.37c-.4-.4-.92-.59-1.43-.59-.52 0-1.04.2-1.43.59L10.3 9.45l-7.72 7.72c-.78.78-.78 2.05 0 2.83L4 21.41c.39.39.9.59 1.41.59.51 0 1.02-.2 1.41-.59l7.78-7.78 2.81-2.81c.8-.78.8-2.07 0-2.86zM5.41 20L4 18.59l7.72-7.72 1.47 1.35L5.41 20z\"/>\n",
              "  </svg>\n",
              "      </button>\n",
              "      \n",
              "  <style>\n",
              "    .colab-df-container {\n",
              "      display:flex;\n",
              "      flex-wrap:wrap;\n",
              "      gap: 12px;\n",
              "    }\n",
              "\n",
              "    .colab-df-convert {\n",
              "      background-color: #E8F0FE;\n",
              "      border: none;\n",
              "      border-radius: 50%;\n",
              "      cursor: pointer;\n",
              "      display: none;\n",
              "      fill: #1967D2;\n",
              "      height: 32px;\n",
              "      padding: 0 0 0 0;\n",
              "      width: 32px;\n",
              "    }\n",
              "\n",
              "    .colab-df-convert:hover {\n",
              "      background-color: #E2EBFA;\n",
              "      box-shadow: 0px 1px 2px rgba(60, 64, 67, 0.3), 0px 1px 3px 1px rgba(60, 64, 67, 0.15);\n",
              "      fill: #174EA6;\n",
              "    }\n",
              "\n",
              "    [theme=dark] .colab-df-convert {\n",
              "      background-color: #3B4455;\n",
              "      fill: #D2E3FC;\n",
              "    }\n",
              "\n",
              "    [theme=dark] .colab-df-convert:hover {\n",
              "      background-color: #434B5C;\n",
              "      box-shadow: 0px 1px 3px 1px rgba(0, 0, 0, 0.15);\n",
              "      filter: drop-shadow(0px 1px 2px rgba(0, 0, 0, 0.3));\n",
              "      fill: #FFFFFF;\n",
              "    }\n",
              "  </style>\n",
              "\n",
              "      <script>\n",
              "        const buttonEl =\n",
              "          document.querySelector('#df-5cbc2bf2-4da3-4b8e-81b5-aa0ac50bac5b button.colab-df-convert');\n",
              "        buttonEl.style.display =\n",
              "          google.colab.kernel.accessAllowed ? 'block' : 'none';\n",
              "\n",
              "        async function convertToInteractive(key) {\n",
              "          const element = document.querySelector('#df-5cbc2bf2-4da3-4b8e-81b5-aa0ac50bac5b');\n",
              "          const dataTable =\n",
              "            await google.colab.kernel.invokeFunction('convertToInteractive',\n",
              "                                                     [key], {});\n",
              "          if (!dataTable) return;\n",
              "\n",
              "          const docLinkHtml = 'Like what you see? Visit the ' +\n",
              "            '<a target=\"_blank\" href=https://colab.research.google.com/notebooks/data_table.ipynb>data table notebook</a>'\n",
              "            + ' to learn more about interactive tables.';\n",
              "          element.innerHTML = '';\n",
              "          dataTable['output_type'] = 'display_data';\n",
              "          await google.colab.output.renderOutput(dataTable, element);\n",
              "          const docLink = document.createElement('div');\n",
              "          docLink.innerHTML = docLinkHtml;\n",
              "          element.appendChild(docLink);\n",
              "        }\n",
              "      </script>\n",
              "    </div>\n",
              "  </div>\n",
              "  "
            ]
          },
          "metadata": {},
          "execution_count": 421
        }
      ],
      "source": [
        "#Deleting unnecessary columns\n",
        "del hdfcbank['Dividends']\n",
        "del hdfcbank['Stock Splits']\n",
        "hdfcbank.head()"
      ]
    },
    {
      "cell_type": "code",
      "execution_count": null,
      "metadata": {
        "colab": {
          "base_uri": "https://localhost:8080/"
        },
        "id": "kpSXIZbv9crA",
        "outputId": "1727e481-d336-4995-caf0-f913dc3008ba"
      },
      "outputs": [
        {
          "output_type": "execute_result",
          "data": {
            "text/plain": [
              "(6707, 5)"
            ]
          },
          "metadata": {},
          "execution_count": 422
        }
      ],
      "source": [
        "hdfcbank.shape"
      ]
    },
    {
      "cell_type": "code",
      "execution_count": null,
      "metadata": {
        "colab": {
          "base_uri": "https://localhost:8080/",
          "height": 290
        },
        "id": "ohswJ8IGpgqI",
        "outputId": "bc532f08-9e01-42b3-a7c9-f7faf9f81b03"
      },
      "outputs": [
        {
          "output_type": "execute_result",
          "data": {
            "text/plain": [
              "<matplotlib.axes._subplots.AxesSubplot at 0x7f8da9345b90>"
            ]
          },
          "metadata": {},
          "execution_count": 423
        },
        {
          "output_type": "display_data",
          "data": {
            "text/plain": [
              "<Figure size 432x288 with 1 Axes>"
            ],
            "image/png": "[encoded data removed]"
          },
          "metadata": {
            "needs_background": "light"
          }
        }
      ],
      "source": [
        "#Plotting graph between price and date. \n",
        "hdfcbank.plot.line(y=\"Close\",use_index= True)"
      ]
    },
    {
      "cell_type": "code",
      "execution_count": null,
      "metadata": {
        "colab": {
          "base_uri": "https://localhost:8080/",
          "height": 238
        },
        "id": "Br_GK3JztHEu",
        "outputId": "f5f01c5f-8d6d-4d2f-9fb3-c4e2245f174d"
      },
      "outputs": [
        {
          "output_type": "execute_result",
          "data": {
            "text/plain": [
              "                Open      High       Low     Close  Volume  Tomorrow_price  \\\n",
              "Date                                                                         \n",
              "1996-01-01  2.430058  2.430058  2.345848  2.389958  350000        2.385948   \n",
              "1996-01-02  2.389958  2.426048  2.365898  2.385948  412000        2.393967   \n",
              "1996-01-03  2.385947  2.401987  2.365897  2.393967  284000        2.377928   \n",
              "1996-01-04  2.393968  2.389958  2.357878  2.377928  282000        2.373917   \n",
              "1996-01-05  2.377927  2.389957  2.365897  2.373917  189000        2.345847   \n",
              "\n",
              "            Target  \n",
              "Date                \n",
              "1996-01-01       0  \n",
              "1996-01-02       1  \n",
              "1996-01-03       0  \n",
              "1996-01-04       0  \n",
              "1996-01-05       0  "
            ],
            "text/html": [
              "\n",
              "  <div id=\"df-7fc6ac4b-0b98-4053-899f-85e54322f2df\">\n",
              "    <div class=\"colab-df-container\">\n",
              "      <div>\n",
              "<style scoped>\n",
              "    .dataframe tbody tr th:only-of-type {\n",
              "        vertical-align: middle;\n",
              "    }\n",
              "\n",
              "    .dataframe tbody tr th {\n",
              "        vertical-align: top;\n",
              "    }\n",
              "\n",
              "    .dataframe thead th {\n",
              "        text-align: right;\n",
              "    }\n",
              "</style>\n",
              "<table border=\"1\" class=\"dataframe\">\n",
              "  <thead>\n",
              "    <tr style=\"text-align: right;\">\n",
              "      <th></th>\n",
              "      <th>Open</th>\n",
              "      <th>High</th>\n",
              "      <th>Low</th>\n",
              "      <th>Close</th>\n",
              "      <th>Volume</th>\n",
              "      <th>Tomorrow_price</th>\n",
              "      <th>Target</th>\n",
              "    </tr>\n",
              "    <tr>\n",
              "      <th>Date</th>\n",
              "      <th></th>\n",
              "      <th></th>\n",
              "      <th></th>\n",
              "      <th></th>\n",
              "      <th></th>\n",
              "      <th></th>\n",
              "      <th></th>\n",
              "    </tr>\n",
              "  </thead>\n",
              "  <tbody>\n",
              "    <tr>\n",
              "      <th>1996-01-01</th>\n",
              "      <td>2.430058</td>\n",
              "      <td>2.430058</td>\n",
              "      <td>2.345848</td>\n",
              "      <td>2.389958</td>\n",
              "      <td>350000</td>\n",
              "      <td>2.385948</td>\n",
              "      <td>0</td>\n",
              "    </tr>\n",
              "    <tr>\n",
              "      <th>1996-01-02</th>\n",
              "      <td>2.389958</td>\n",
              "      <td>2.426048</td>\n",
              "      <td>2.365898</td>\n",
              "      <td>2.385948</td>\n",
              "      <td>412000</td>\n",
              "      <td>2.393967</td>\n",
              "      <td>1</td>\n",
              "    </tr>\n",
              "    <tr>\n",
              "      <th>1996-01-03</th>\n",
              "      <td>2.385947</td>\n",
              "      <td>2.401987</td>\n",
              "      <td>2.365897</td>\n",
              "      <td>2.393967</td>\n",
              "      <td>284000</td>\n",
              "      <td>2.377928</td>\n",
              "      <td>0</td>\n",
              "    </tr>\n",
              "    <tr>\n",
              "      <th>1996-01-04</th>\n",
              "      <td>2.393968</td>\n",
              "      <td>2.389958</td>\n",
              "      <td>2.357878</td>\n",
              "      <td>2.377928</td>\n",
              "      <td>282000</td>\n",
              "      <td>2.373917</td>\n",
              "      <td>0</td>\n",
              "    </tr>\n",
              "    <tr>\n",
              "      <th>1996-01-05</th>\n",
              "      <td>2.377927</td>\n",
              "      <td>2.389957</td>\n",
              "      <td>2.365897</td>\n",
              "      <td>2.373917</td>\n",
              "      <td>189000</td>\n",
              "      <td>2.345847</td>\n",
              "      <td>0</td>\n",
              "    </tr>\n",
              "  </tbody>\n",
              "</table>\n",
              "</div>\n",
              "      <button class=\"colab-df-convert\" onclick=\"convertToInteractive('df-7fc6ac4b-0b98-4053-899f-85e54322f2df')\"\n",
              "              title=\"Convert this dataframe to an interactive table.\"\n",
              "              style=\"display:none;\">\n",
              "        \n",
              "  <svg xmlns=\"http://www.w3.org/2000/svg\" height=\"24px\"viewBox=\"0 0 24 24\"\n",
              "       width=\"24px\">\n",
              "    <path d=\"M0 0h24v24H0V0z\" fill=\"none\"/>\n",
              "    <path d=\"M18.56 5.44l.94 2.06.94-2.06 2.06-.94-2.06-.94-.94-2.06-.94 2.06-2.06.94zm-11 1L8.5 8.5l.94-2.06 2.06-.94-2.06-.94L8.5 2.5l-.94 2.06-2.06.94zm10 10l.94 2.06.94-2.06 2.06-.94-2.06-.94-.94-2.06-.94 2.06-2.06.94z\"/><path d=\"M17.41 7.96l-1.37-1.37c-.4-.4-.92-.59-1.43-.59-.52 0-1.04.2-1.43.59L10.3 9.45l-7.72 7.72c-.78.78-.78 2.05 0 2.83L4 21.41c.39.39.9.59 1.41.59.51 0 1.02-.2 1.41-.59l7.78-7.78 2.81-2.81c.8-.78.8-2.07 0-2.86zM5.41 20L4 18.59l7.72-7.72 1.47 1.35L5.41 20z\"/>\n",
              "  </svg>\n",
              "      </button>\n",
              "      \n",
              "  <style>\n",
              "    .colab-df-container {\n",
              "      display:flex;\n",
              "      flex-wrap:wrap;\n",
              "      gap: 12px;\n",
              "    }\n",
              "\n",
              "    .colab-df-convert {\n",
              "      background-color: #E8F0FE;\n",
              "      border: none;\n",
              "      border-radius: 50%;\n",
              "      cursor: pointer;\n",
              "      display: none;\n",
              "      fill: #1967D2;\n",
              "      height: 32px;\n",
              "      padding: 0 0 0 0;\n",
              "      width: 32px;\n",
              "    }\n",
              "\n",
              "    .colab-df-convert:hover {\n",
              "      background-color: #E2EBFA;\n",
              "      box-shadow: 0px 1px 2px rgba(60, 64, 67, 0.3), 0px 1px 3px 1px rgba(60, 64, 67, 0.15);\n",
              "      fill: #174EA6;\n",
              "    }\n",
              "\n",
              "    [theme=dark] .colab-df-convert {\n",
              "      background-color: #3B4455;\n",
              "      fill: #D2E3FC;\n",
              "    }\n",
              "\n",
              "    [theme=dark] .colab-df-convert:hover {\n",
              "      background-color: #434B5C;\n",
              "      box-shadow: 0px 1px 3px 1px rgba(0, 0, 0, 0.15);\n",
              "      filter: drop-shadow(0px 1px 2px rgba(0, 0, 0, 0.3));\n",
              "      fill: #FFFFFF;\n",
              "    }\n",
              "  </style>\n",
              "\n",
              "      <script>\n",
              "        const buttonEl =\n",
              "          document.querySelector('#df-7fc6ac4b-0b98-4053-899f-85e54322f2df button.colab-df-convert');\n",
              "        buttonEl.style.display =\n",
              "          google.colab.kernel.accessAllowed ? 'block' : 'none';\n",
              "\n",
              "        async function convertToInteractive(key) {\n",
              "          const element = document.querySelector('#df-7fc6ac4b-0b98-4053-899f-85e54322f2df');\n",
              "          const dataTable =\n",
              "            await google.colab.kernel.invokeFunction('convertToInteractive',\n",
              "                                                     [key], {});\n",
              "          if (!dataTable) return;\n",
              "\n",
              "          const docLinkHtml = 'Like what you see? Visit the ' +\n",
              "            '<a target=\"_blank\" href=https://colab.research.google.com/notebooks/data_table.ipynb>data table notebook</a>'\n",
              "            + ' to learn more about interactive tables.';\n",
              "          element.innerHTML = '';\n",
              "          dataTable['output_type'] = 'display_data';\n",
              "          await google.colab.output.renderOutput(dataTable, element);\n",
              "          const docLink = document.createElement('div');\n",
              "          docLink.innerHTML = docLinkHtml;\n",
              "          element.appendChild(docLink);\n",
              "        }\n",
              "      </script>\n",
              "    </div>\n",
              "  </div>\n",
              "  "
            ]
          },
          "metadata": {},
          "execution_count": 424
        }
      ],
      "source": [
        "#Making a target column to check whether the price gone up or not on the next day\n",
        "hdfcbank[\"Tomorrow_price\"] = hdfcbank[\"Close\"].shift(-1)\n",
        "hdfcbank[\"Target\"] = (hdfcbank[\"Tomorrow_price\"] > hdfcbank[\"Close\"]).astype(int)\n",
        "hdfcbank.head()"
      ]
    },
    {
      "cell_type": "code",
      "execution_count": null,
      "metadata": {
        "colab": {
          "base_uri": "https://localhost:8080/"
        },
        "id": "D9TKl7SEzNfy",
        "outputId": "dbde47e7-835b-436b-a685-763088a20ff3"
      },
      "outputs": [
        {
          "output_type": "execute_result",
          "data": {
            "text/plain": [
              "RandomForestClassifier(min_samples_split=100, n_estimators=250, random_state=1)"
            ]
          },
          "metadata": {},
          "execution_count": 425
        }
      ],
      "source": [
        "#Importing Random Forest Classifier\n",
        "from sklearn.ensemble import RandomForestClassifier\n",
        "\n",
        "rfc = RandomForestClassifier(n_estimators=250, min_samples_split=100, random_state=1)\n",
        "\n",
        "#Splitting the data as training and testing data\n",
        "train_data = hdfcbank.iloc[:-100]\n",
        "test_data = hdfcbank.iloc[-100:]\n",
        "\n",
        "predictors = [\"Close\", \"Volume\", \"Open\", \"High\", \"Low\"]\n",
        "\n",
        "#Training the model\n",
        "rfc.fit(train_data[predictors], train_data[\"Target\"])"
      ]
    },
    {
      "cell_type": "code",
      "execution_count": null,
      "metadata": {
        "colab": {
          "base_uri": "https://localhost:8080/"
        },
        "id": "77DKMFL_z9Qc",
        "outputId": "47f8e23b-f3cf-4625-977f-9bf3103d5edc"
      },
      "outputs": [
        {
          "output_type": "execute_result",
          "data": {
            "text/plain": [
              "0.5542168674698795"
            ]
          },
          "metadata": {},
          "execution_count": 427
        }
      ],
      "source": [
        "#Importing precision_score\n",
        "from sklearn.metrics import precision_score\n",
        "\n",
        "#Testing the data\n",
        "predictions = rfc.predict(test_data[predictors])\n",
        "predictions = pd.Series(predictions, index=test_data.index)\n",
        "precision_score(test_data[\"Target\"], predictions)"
      ]
    },
    {
      "cell_type": "markdown",
      "source": [
        "Our model has given a precision rate of 55.42% . That means whenever we are predicting that the price will go up, only 55.42% of the time it is going up."
      ],
      "metadata": {
        "id": "5wRJjm6mMkK6"
      }
    },
    {
      "cell_type": "code",
      "execution_count": null,
      "metadata": {
        "colab": {
          "base_uri": "https://localhost:8080/",
          "height": 343
        },
        "id": "2vviL-4102sP",
        "outputId": "e37cd5f4-d402-4ded-9a67-3f5f7a540bdb"
      },
      "outputs": [
        {
          "output_type": "execute_result",
          "data": {
            "text/plain": [
              "<matplotlib.axes._subplots.AxesSubplot at 0x7f8da94fdc50>"
            ]
          },
          "metadata": {},
          "execution_count": 428
        },
        {
          "output_type": "display_data",
          "data": {
            "text/plain": [
              "<Figure size 720x360 with 1 Axes>"
            ],
            "image/png": "[encoded data removed]"
          },
          "metadata": {
            "needs_background": "light"
          }
        }
      ],
      "source": [
        "#plotting target against predictions\n",
        "combined_data = pd.concat([test_data[\"Target\"], predictions], axis=1)\n",
        "combined_data.plot(figsize=(10,5))"
      ]
    },
    {
      "cell_type": "code",
      "execution_count": null,
      "metadata": {
        "id": "jGi8in68JYMr"
      },
      "outputs": [],
      "source": [
        "rfc = RandomForestClassifier(n_estimators=200, min_samples_split=100, random_state=40)"
      ]
    },
    {
      "cell_type": "code",
      "execution_count": null,
      "metadata": {
        "id": "pSFA2IRG3ZY6"
      },
      "outputs": [],
      "source": [
        "#Wrapping the training and testing process. \n",
        "def predict(train_data, test_data, predictors, rfc):\n",
        "    rfc.fit(train_data[predictors], train_data[\"Target\"])\n",
        "    predictions = rfc.predict(test_data[predictors])\n",
        "    predictions = pd.Series(predictions, index=test_data.index, name=\"Predictions\")\n",
        "    combined_data = pd.concat([test_data[\"Target\"],predictions],axis=1)\n",
        "    return combined_data"
      ]
    },
    {
      "cell_type": "code",
      "execution_count": null,
      "metadata": {
        "id": "G1qNLC_53bLu"
      },
      "outputs": [],
      "source": [
        "#Backtesting our data\n",
        "def backtest(data, rfc, predictors, start=2500, step=250):\n",
        "    total_predictions = []\n",
        "\n",
        "    for i in range(start, data.shape[0], step):\n",
        "        train_data = data.iloc[0:i].copy()\n",
        "        test_data = data.iloc[i:(i+step)].copy()\n",
        "        predictions = predict(train_data, test_data, predictors, rfc)\n",
        "        total_predictions.append(predictions)\n",
        "    \n",
        "    return pd.concat(total_predictions)"
      ]
    },
    {
      "cell_type": "code",
      "execution_count": null,
      "metadata": {
        "id": "YCpuiSKU8QlX"
      },
      "outputs": [],
      "source": [
        "predictions = backtest(hdfcbank, rfc, predictors)"
      ]
    },
    {
      "cell_type": "code",
      "execution_count": null,
      "metadata": {
        "colab": {
          "base_uri": "https://localhost:8080/"
        },
        "id": "iQlRudYLG2iE",
        "outputId": "805c951c-b427-4d92-bf8e-1f42561afe2c"
      },
      "outputs": [
        {
          "output_type": "execute_result",
          "data": {
            "text/plain": [
              "0    3349\n",
              "1     858\n",
              "Name: Predictions, dtype: int64"
            ]
          },
          "metadata": {},
          "execution_count": 433
        }
      ],
      "source": [
        "predictions[\"Predictions\"].value_counts()"
      ]
    },
    {
      "cell_type": "code",
      "execution_count": null,
      "metadata": {
        "colab": {
          "base_uri": "https://localhost:8080/"
        },
        "id": "BXI3w189G9Cu",
        "outputId": "6716f4ed-32a4-4eed-ead4-0e22f406fa25"
      },
      "outputs": [
        {
          "output_type": "execute_result",
          "data": {
            "text/plain": [
              "0.5466200466200466"
            ]
          },
          "metadata": {},
          "execution_count": 434
        }
      ],
      "source": [
        "#New precision score\n",
        "precision_score(predictions[\"Target\"], predictions[\"Predictions\"])"
      ]
    },
    {
      "cell_type": "code",
      "source": [
        "#Increasing the number of predictors by (i)finding the rolling averages in some interval and (ii)finding the ratio of two predictors\n",
        "intervals = [2,5,20,250,1000]\n",
        "new_predictors = []\n",
        "\n",
        "for interval in intervals:\n",
        "    rolling_averages = hdfcbank.rolling(interval).mean()\n",
        "    \n",
        "    ratio_column = f\"Close_Ratio_{interval}\"\n",
        "    hdfcbank[ratio_column] = hdfcbank[\"Close\"] / rolling_averages[\"Close\"]\n",
        "    \n",
        "    trend_column = f\"Trend_{interval}\"\n",
        "    hdfcbank[trend_column] = hdfcbank.shift(1).rolling(interval).sum()[\"Target\"]\n",
        "    \n",
        "    new_predictors+= [ratio_column, trend_column]"
      ],
      "metadata": {
        "id": "PJjP4fJh5vbY"
      },
      "execution_count": null,
      "outputs": []
    },
    {
      "cell_type": "code",
      "source": [
        "#Dropping the na values\n",
        "hdfcbank = hdfcbank.dropna()\n",
        "hdfcbank.head()"
      ],
      "metadata": {
        "colab": {
          "base_uri": "https://localhost:8080/",
          "height": 388
        },
        "id": "I93D73uC63OI",
        "outputId": "1c312f09-2c73-4d7a-f169-719f1b8beff7"
      },
      "execution_count": null,
      "outputs": [
        {
          "output_type": "execute_result",
          "data": {
            "text/plain": [
              "                Open      High       Low     Close   Volume  Tomorrow_price  \\\n",
              "Date                                                                          \n",
              "1999-11-01  7.583347  7.797731  7.566532  7.654808   935700        7.843970   \n",
              "1999-11-02  7.566531  7.902821  7.566531  7.843970   921370        8.007913   \n",
              "1999-11-03  7.986895  8.155040  7.986895  8.007913  1522850        7.940654   \n",
              "1999-11-04  7.587549  8.070967  7.574939  7.940654   484900        7.940654   \n",
              "1999-11-05  7.944858  7.982690  7.864988  7.940654   258150        7.940654   \n",
              "\n",
              "            Target  Close_Ratio_2  Trend_2  Close_Ratio_5  Trend_5  \\\n",
              "Date                                                                 \n",
              "1999-11-01       1       0.991020      0.0       0.967485      1.0   \n",
              "1999-11-02       1       1.012205      1.0       0.993716      2.0   \n",
              "1999-11-03       0       1.010342      2.0       1.019807      2.0   \n",
              "1999-11-04       0       0.995783      1.0       1.011784      2.0   \n",
              "1999-11-05       0       1.000000      0.0       1.008004      2.0   \n",
              "\n",
              "            Close_Ratio_20  Trend_20  Close_Ratio_250  Trend_250  \\\n",
              "Date                                                               \n",
              "1999-11-01        0.927473       9.0         1.276289      121.0   \n",
              "1999-11-02        0.951749       9.0         1.304880      122.0   \n",
              "1999-11-03        0.971666      10.0         1.329182      122.0   \n",
              "1999-11-04        0.965056       9.0         1.315019      122.0   \n",
              "1999-11-05        0.967378       8.0         1.311962      122.0   \n",
              "\n",
              "            Close_Ratio_1000  Trend_1000  \n",
              "Date                                      \n",
              "1999-11-01          1.593597       444.0  \n",
              "1999-11-02          1.631124       445.0  \n",
              "1999-11-03          1.663274       445.0  \n",
              "1999-11-04          1.647400       445.0  \n",
              "1999-11-05          1.645500       445.0  "
            ],
            "text/html": [
              "\n",
              "  <div id=\"df-46a26cf4-d153-4129-bcdd-2a4f53e1321b\">\n",
              "    <div class=\"colab-df-container\">\n",
              "      <div>\n",
              "<style scoped>\n",
              "    .dataframe tbody tr th:only-of-type {\n",
              "        vertical-align: middle;\n",
              "    }\n",
              "\n",
              "    .dataframe tbody tr th {\n",
              "        vertical-align: top;\n",
              "    }\n",
              "\n",
              "    .dataframe thead th {\n",
              "        text-align: right;\n",
              "    }\n",
              "</style>\n",
              "<table border=\"1\" class=\"dataframe\">\n",
              "  <thead>\n",
              "    <tr style=\"text-align: right;\">\n",
              "      <th></th>\n",
              "      <th>Open</th>\n",
              "      <th>High</th>\n",
              "      <th>Low</th>\n",
              "      <th>Close</th>\n",
              "      <th>Volume</th>\n",
              "      <th>Tomorrow_price</th>\n",
              "      <th>Target</th>\n",
              "      <th>Close_Ratio_2</th>\n",
              "      <th>Trend_2</th>\n",
              "      <th>Close_Ratio_5</th>\n",
              "      <th>Trend_5</th>\n",
              "      <th>Close_Ratio_20</th>\n",
              "      <th>Trend_20</th>\n",
              "      <th>Close_Ratio_250</th>\n",
              "      <th>Trend_250</th>\n",
              "      <th>Close_Ratio_1000</th>\n",
              "      <th>Trend_1000</th>\n",
              "    </tr>\n",
              "    <tr>\n",
              "      <th>Date</th>\n",
              "      <th></th>\n",
              "      <th></th>\n",
              "      <th></th>\n",
              "      <th></th>\n",
              "      <th></th>\n",
              "      <th></th>\n",
              "      <th></th>\n",
              "      <th></th>\n",
              "      <th></th>\n",
              "      <th></th>\n",
              "      <th></th>\n",
              "      <th></th>\n",
              "      <th></th>\n",
              "      <th></th>\n",
              "      <th></th>\n",
              "      <th></th>\n",
              "      <th></th>\n",
              "    </tr>\n",
              "  </thead>\n",
              "  <tbody>\n",
              "    <tr>\n",
              "      <th>1999-11-01</th>\n",
              "      <td>7.583347</td>\n",
              "      <td>7.797731</td>\n",
              "      <td>7.566532</td>\n",
              "      <td>7.654808</td>\n",
              "      <td>935700</td>\n",
              "      <td>7.843970</td>\n",
              "      <td>1</td>\n",
              "      <td>0.991020</td>\n",
              "      <td>0.0</td>\n",
              "      <td>0.967485</td>\n",
              "      <td>1.0</td>\n",
              "      <td>0.927473</td>\n",
              "      <td>9.0</td>\n",
              "      <td>1.276289</td>\n",
              "      <td>121.0</td>\n",
              "      <td>1.593597</td>\n",
              "      <td>444.0</td>\n",
              "    </tr>\n",
              "    <tr>\n",
              "      <th>1999-11-02</th>\n",
              "      <td>7.566531</td>\n",
              "      <td>7.902821</td>\n",
              "      <td>7.566531</td>\n",
              "      <td>7.843970</td>\n",
              "      <td>921370</td>\n",
              "      <td>8.007913</td>\n",
              "      <td>1</td>\n",
              "      <td>1.012205</td>\n",
              "      <td>1.0</td>\n",
              "      <td>0.993716</td>\n",
              "      <td>2.0</td>\n",
              "      <td>0.951749</td>\n",
              "      <td>9.0</td>\n",
              "      <td>1.304880</td>\n",
              "      <td>122.0</td>\n",
              "      <td>1.631124</td>\n",
              "      <td>445.0</td>\n",
              "    </tr>\n",
              "    <tr>\n",
              "      <th>1999-11-03</th>\n",
              "      <td>7.986895</td>\n",
              "      <td>8.155040</td>\n",
              "      <td>7.986895</td>\n",
              "      <td>8.007913</td>\n",
              "      <td>1522850</td>\n",
              "      <td>7.940654</td>\n",
              "      <td>0</td>\n",
              "      <td>1.010342</td>\n",
              "      <td>2.0</td>\n",
              "      <td>1.019807</td>\n",
              "      <td>2.0</td>\n",
              "      <td>0.971666</td>\n",
              "      <td>10.0</td>\n",
              "      <td>1.329182</td>\n",
              "      <td>122.0</td>\n",
              "      <td>1.663274</td>\n",
              "      <td>445.0</td>\n",
              "    </tr>\n",
              "    <tr>\n",
              "      <th>1999-11-04</th>\n",
              "      <td>7.587549</td>\n",
              "      <td>8.070967</td>\n",
              "      <td>7.574939</td>\n",
              "      <td>7.940654</td>\n",
              "      <td>484900</td>\n",
              "      <td>7.940654</td>\n",
              "      <td>0</td>\n",
              "      <td>0.995783</td>\n",
              "      <td>1.0</td>\n",
              "      <td>1.011784</td>\n",
              "      <td>2.0</td>\n",
              "      <td>0.965056</td>\n",
              "      <td>9.0</td>\n",
              "      <td>1.315019</td>\n",
              "      <td>122.0</td>\n",
              "      <td>1.647400</td>\n",
              "      <td>445.0</td>\n",
              "    </tr>\n",
              "    <tr>\n",
              "      <th>1999-11-05</th>\n",
              "      <td>7.944858</td>\n",
              "      <td>7.982690</td>\n",
              "      <td>7.864988</td>\n",
              "      <td>7.940654</td>\n",
              "      <td>258150</td>\n",
              "      <td>7.940654</td>\n",
              "      <td>0</td>\n",
              "      <td>1.000000</td>\n",
              "      <td>0.0</td>\n",
              "      <td>1.008004</td>\n",
              "      <td>2.0</td>\n",
              "      <td>0.967378</td>\n",
              "      <td>8.0</td>\n",
              "      <td>1.311962</td>\n",
              "      <td>122.0</td>\n",
              "      <td>1.645500</td>\n",
              "      <td>445.0</td>\n",
              "    </tr>\n",
              "  </tbody>\n",
              "</table>\n",
              "</div>\n",
              "      <button class=\"colab-df-convert\" onclick=\"convertToInteractive('df-46a26cf4-d153-4129-bcdd-2a4f53e1321b')\"\n",
              "              title=\"Convert this dataframe to an interactive table.\"\n",
              "              style=\"display:none;\">\n",
              "        \n",
              "  <svg xmlns=\"http://www.w3.org/2000/svg\" height=\"24px\"viewBox=\"0 0 24 24\"\n",
              "       width=\"24px\">\n",
              "    <path d=\"M0 0h24v24H0V0z\" fill=\"none\"/>\n",
              "    <path d=\"M18.56 5.44l.94 2.06.94-2.06 2.06-.94-2.06-.94-.94-2.06-.94 2.06-2.06.94zm-11 1L8.5 8.5l.94-2.06 2.06-.94-2.06-.94L8.5 2.5l-.94 2.06-2.06.94zm10 10l.94 2.06.94-2.06 2.06-.94-2.06-.94-.94-2.06-.94 2.06-2.06.94z\"/><path d=\"M17.41 7.96l-1.37-1.37c-.4-.4-.92-.59-1.43-.59-.52 0-1.04.2-1.43.59L10.3 9.45l-7.72 7.72c-.78.78-.78 2.05 0 2.83L4 21.41c.39.39.9.59 1.41.59.51 0 1.02-.2 1.41-.59l7.78-7.78 2.81-2.81c.8-.78.8-2.07 0-2.86zM5.41 20L4 18.59l7.72-7.72 1.47 1.35L5.41 20z\"/>\n",
              "  </svg>\n",
              "      </button>\n",
              "      \n",
              "  <style>\n",
              "    .colab-df-container {\n",
              "      display:flex;\n",
              "      flex-wrap:wrap;\n",
              "      gap: 12px;\n",
              "    }\n",
              "\n",
              "    .colab-df-convert {\n",
              "      background-color: #E8F0FE;\n",
              "      border: none;\n",
              "      border-radius: 50%;\n",
              "      cursor: pointer;\n",
              "      display: none;\n",
              "      fill: #1967D2;\n",
              "      height: 32px;\n",
              "      padding: 0 0 0 0;\n",
              "      width: 32px;\n",
              "    }\n",
              "\n",
              "    .colab-df-convert:hover {\n",
              "      background-color: #E2EBFA;\n",
              "      box-shadow: 0px 1px 2px rgba(60, 64, 67, 0.3), 0px 1px 3px 1px rgba(60, 64, 67, 0.15);\n",
              "      fill: #174EA6;\n",
              "    }\n",
              "\n",
              "    [theme=dark] .colab-df-convert {\n",
              "      background-color: #3B4455;\n",
              "      fill: #D2E3FC;\n",
              "    }\n",
              "\n",
              "    [theme=dark] .colab-df-convert:hover {\n",
              "      background-color: #434B5C;\n",
              "      box-shadow: 0px 1px 3px 1px rgba(0, 0, 0, 0.15);\n",
              "      filter: drop-shadow(0px 1px 2px rgba(0, 0, 0, 0.3));\n",
              "      fill: #FFFFFF;\n",
              "    }\n",
              "  </style>\n",
              "\n",
              "      <script>\n",
              "        const buttonEl =\n",
              "          document.querySelector('#df-46a26cf4-d153-4129-bcdd-2a4f53e1321b button.colab-df-convert');\n",
              "        buttonEl.style.display =\n",
              "          google.colab.kernel.accessAllowed ? 'block' : 'none';\n",
              "\n",
              "        async function convertToInteractive(key) {\n",
              "          const element = document.querySelector('#df-46a26cf4-d153-4129-bcdd-2a4f53e1321b');\n",
              "          const dataTable =\n",
              "            await google.colab.kernel.invokeFunction('convertToInteractive',\n",
              "                                                     [key], {});\n",
              "          if (!dataTable) return;\n",
              "\n",
              "          const docLinkHtml = 'Like what you see? Visit the ' +\n",
              "            '<a target=\"_blank\" href=https://colab.research.google.com/notebooks/data_table.ipynb>data table notebook</a>'\n",
              "            + ' to learn more about interactive tables.';\n",
              "          element.innerHTML = '';\n",
              "          dataTable['output_type'] = 'display_data';\n",
              "          await google.colab.output.renderOutput(dataTable, element);\n",
              "          const docLink = document.createElement('div');\n",
              "          docLink.innerHTML = docLinkHtml;\n",
              "          element.appendChild(docLink);\n",
              "        }\n",
              "      </script>\n",
              "    </div>\n",
              "  </div>\n",
              "  "
            ]
          },
          "metadata": {},
          "execution_count": 436
        }
      ]
    },
    {
      "cell_type": "code",
      "source": [
        "hdfcbank.shape"
      ],
      "metadata": {
        "colab": {
          "base_uri": "https://localhost:8080/"
        },
        "id": "6i7cHKtc9jAJ",
        "outputId": "aca9fb80-da9e-4132-a2e8-f7ec4fa61dd6"
      },
      "execution_count": null,
      "outputs": [
        {
          "output_type": "execute_result",
          "data": {
            "text/plain": [
              "(5706, 17)"
            ]
          },
          "metadata": {},
          "execution_count": 437
        }
      ]
    },
    {
      "cell_type": "code",
      "source": [
        "#Total predictors \n",
        "total_predictors = new_predictors+predictors\n",
        "total_predictors"
      ],
      "metadata": {
        "colab": {
          "base_uri": "https://localhost:8080/"
        },
        "id": "GkL1IX1t8K6z",
        "outputId": "14e9b50a-2d5e-42f5-f33f-6893d3404939"
      },
      "execution_count": null,
      "outputs": [
        {
          "output_type": "execute_result",
          "data": {
            "text/plain": [
              "['Close_Ratio_2',\n",
              " 'Trend_2',\n",
              " 'Close_Ratio_5',\n",
              " 'Trend_5',\n",
              " 'Close_Ratio_20',\n",
              " 'Trend_20',\n",
              " 'Close_Ratio_250',\n",
              " 'Trend_250',\n",
              " 'Close_Ratio_1000',\n",
              " 'Trend_1000',\n",
              " 'Close',\n",
              " 'Volume',\n",
              " 'Open',\n",
              " 'High',\n",
              " 'Low']"
            ]
          },
          "metadata": {},
          "execution_count": 438
        }
      ]
    },
    {
      "cell_type": "code",
      "source": [
        "#Training the model with other predictors\n",
        "from sklearn.ensemble import RandomForestClassifier\n",
        "\n",
        "rfc = RandomForestClassifier(n_estimators=150, min_samples_split=190, random_state=1)\n",
        "\n",
        "train_data = hdfcbank.iloc[:-290]\n",
        "test_data = hdfcbank.iloc[-290:]\n",
        "\n",
        "rfc.fit(train_data[total_predictors], train_data[\"Target\"])"
      ],
      "metadata": {
        "colab": {
          "base_uri": "https://localhost:8080/"
        },
        "id": "ddJbPxtX64P5",
        "outputId": "d8bdad2c-5a57-4d01-de85-086d35eace97"
      },
      "execution_count": null,
      "outputs": [
        {
          "output_type": "execute_result",
          "data": {
            "text/plain": [
              "RandomForestClassifier(min_samples_split=190, n_estimators=150, random_state=1)"
            ]
          },
          "metadata": {},
          "execution_count": 439
        }
      ]
    },
    {
      "cell_type": "code",
      "source": [
        "from sklearn.metrics import precision_score\n",
        "\n",
        "predictions = rfc.predict(test_data[total_predictors])\n",
        "predictions = pd.Series(predictions, index=test_data.index)\n",
        "precision_score(test_data[\"Target\"], predictions)"
      ],
      "metadata": {
        "colab": {
          "base_uri": "https://localhost:8080/"
        },
        "id": "R0JL9jrJ7Mbs",
        "outputId": "6fba9bfc-a022-482a-e698-1ebbc3b2d98a"
      },
      "execution_count": null,
      "outputs": [
        {
          "output_type": "execute_result",
          "data": {
            "text/plain": [
              "0.6198347107438017"
            ]
          },
          "metadata": {},
          "execution_count": 440
        }
      ]
    },
    {
      "cell_type": "markdown",
      "source": [
        "Our precision score has increased up to 61.98% or 62% which earlier was 54.4% . Therefore when are predicting that stock price will go up next day , 62% of the time it is actually going up. "
      ],
      "metadata": {
        "id": "NkQkPXL9PCUR"
      }
    }
  ],
  "metadata": {
    "colab": {
      "collapsed_sections": [],
      "name": "HDFCBANK_share_price_predict.ipynb",
      "provenance": [],
      "authorship_tag": "ABX9TyMZSruquObnuUbx5CZePXir",
      "include_colab_link": true
    },
    "kernelspec": {
      "display_name": "Python 3",
      "name": "python3"
    },
    "language_info": {
      "name": "python"
    }
  },
  "nbformat": 4,
  "nbformat_minor": 0
}